{
  "nbformat": 4,
  "nbformat_minor": 0,
  "metadata": {
    "colab": {
      "provenance": []
    },
    "kernelspec": {
      "name": "python3",
      "display_name": "Python 3"
    },
    "language_info": {
      "name": "python"
    }
  },
  "cells": [
    {
      "cell_type": "code",
      "execution_count": null,
      "metadata": {
        "id": "1CQcuD2sHf-t"
      },
      "outputs": [],
      "source": [
        "maharashtra  = (input('capital of maharashtra'))\n",
        "print('capital of maharashtra is ',maharashtra)\n",
        "uttar_pradesh = (input('capital of uttar pradesh'))\n",
        "print('capital of uttar pradesh is ',uttar_pradesh)\n",
        "gujarat = (input('capital of gujarat'))\n",
        "print('capital of gujarat is Gandhinagar')\n",
        "karnataka = (input('capital of karnataka'))\n",
        "print('capital of karnataka is bangalore')\n",
        "tamil_nadu = (input('capital of tamil nadu'))\n",
        "print('capital of tamil nadu is chennai')\n",
        "kerala = (input('capital of kerala'))\n",
        "print('capital of kerala is trivandrum')\n",
        "delhi = (input('capital of delhi'))\n",
        "print('capital of delhi is delhi')\n",
        "\n",
        "\n",
        "\n",
        "\n"
      ]
    },
    {
      "cell_type": "code",
      "source": [],
      "metadata": {
        "id": "Ee3Q_b9OJkWF"
      },
      "execution_count": null,
      "outputs": []
    }
  ]
}